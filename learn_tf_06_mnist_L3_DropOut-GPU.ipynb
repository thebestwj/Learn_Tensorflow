{
 "cells": [
  {
   "cell_type": "code",
   "execution_count": 2,
   "metadata": {},
   "outputs": [],
   "source": [
    "import tensorflow as tf\n",
    "import numpy as np"
   ]
  },
  {
   "cell_type": "code",
   "execution_count": 3,
   "metadata": {},
   "outputs": [
    {
     "name": "stdout",
     "output_type": "stream",
     "text": [
      "[name: \"/device:CPU:0\"\n",
      "device_type: \"CPU\"\n",
      "memory_limit: 268435456\n",
      "locality {\n",
      "}\n",
      "incarnation: 18373956507879629476\n",
      ", name: \"/device:GPU:0\"\n",
      "device_type: \"GPU\"\n",
      "memory_limit: 1453034700\n",
      "locality {\n",
      "  bus_id: 1\n",
      "  links {\n",
      "  }\n",
      "}\n",
      "incarnation: 5545627518947811959\n",
      "physical_device_desc: \"device: 0, name: GeForce GTX 750 Ti, pci bus id: 0000:01:00.0, compute capability: 5.0\"\n",
      "]\n"
     ]
    }
   ],
   "source": [
    "\n",
    "from tensorflow.python.client import device_lib\n",
    "print(device_lib.list_local_devices())"
   ]
  },
  {
   "cell_type": "code",
   "execution_count": 9,
   "metadata": {},
   "outputs": [],
   "source": [
    "mnist = tf.keras.datasets.mnist.load_data()\n",
    "(x_trainx, y_train), (x_testx, y_test) = mnist\n",
    "\n",
    "x_train = np.reshape(x_trainx,(60000,784))\n",
    "x_test = np.reshape(x_testx,(10000,784))\n",
    "\n",
    "#regulazation\n",
    "x_train = x_train / 255\n",
    "x_test = x_test / 255\n",
    "\n",
    "y_train = np.eye(10)[y_train]\n",
    "y_test = np.eye(10)[y_test]\n",
    "\n",
    "\n",
    "#batch\n",
    "###very important\n",
    "batch_size = 100\n",
    "batch_num = 60000 // batch_size\n",
    "x_train = np.split(np.array(x_train),batch_num)\n",
    "y_train = np.split(np.array(y_train),batch_num)\n"
   ]
  },
  {
   "cell_type": "code",
   "execution_count": 10,
   "metadata": {},
   "outputs": [
    {
     "name": "stdout",
     "output_type": "stream",
     "text": [
      "test:0.9187  train:0.95\n",
      "test:0.9345  train:0.98\n",
      "test:0.9435  train:0.98\n",
      "test:0.9496  train:0.98\n",
      "test:0.9527  train:0.98\n",
      "test:0.9551  train:0.98\n",
      "test:0.9586  train:0.98\n",
      "test:0.9613  train:0.98\n",
      "test:0.9631  train:0.98\n",
      "test:0.9643  train:0.98\n",
      "test:0.9658  train:0.98\n",
      "test:0.9671  train:0.98\n",
      "test:0.9674  train:0.98\n",
      "test:0.9676  train:0.99\n",
      "test:0.968  train:0.99\n",
      "test:0.9688  train:0.99\n",
      "test:0.9693  train:0.99\n",
      "test:0.9693  train:0.99\n",
      "test:0.9696  train:0.99\n",
      "test:0.97  train:0.99\n",
      "test:0.9705  train:0.99\n"
     ]
    }
   ],
   "source": [
    "#build network\n",
    "x = tf.placeholder(tf.float32,[None,784])\n",
    "y = tf.placeholder(tf.float32,[None,10])\n",
    "\n",
    "#dropout\n",
    "keep_prob=tf.placeholder(tf.float32)\n",
    "\n",
    "w1 = tf.Variable(tf.truncated_normal([784,500],stddev=0.1))\n",
    "b1 = tf.Variable(tf.zeros([500])+0.1)\n",
    "L1 = tf.nn.relu(tf.matmul(x,w1)+b1)\n",
    "L1_drop = tf.nn.dropout(L1,keep_prob)\n",
    "\n",
    "w2 = tf.Variable(tf.truncated_normal([500,500],stddev=0.1))\n",
    "b2 = tf.Variable(tf.zeros([500])+0.1)\n",
    "L2 = tf.nn.relu(tf.matmul(L1,w2)+b2)\n",
    "L2_drop = tf.nn.dropout(L2,keep_prob)\n",
    "\n",
    "w3 = tf.Variable(tf.truncated_normal([500,10],stddev=0.1))\n",
    "b3 = tf.Variable(tf.zeros([10])+0.1)\n",
    "L3 = tf.matmul(L2,w3)+b3\n",
    "\n",
    "predict = tf.nn.softmax(L3)\n",
    "\n",
    "\n",
    "#loss\n",
    "loss = tf.reduce_mean(tf.square(y - predict))\n",
    "\n",
    "\n",
    "#gradient\n",
    "train_step = tf.train.GradientDescentOptimizer(0.4).minimize(loss)\n",
    "#train_step = tf.train.ProximalGradientDescentOptimizer(0.5).minimize(loss)\n",
    "\n",
    "init = tf.global_variables_initializer()\n",
    "\n",
    "#accuracy\n",
    "correct = tf.equal(tf.argmax(y,1),tf.argmax(predict,1))\n",
    "acc = tf.reduce_mean(tf.cast(correct,tf.float32))\n",
    "\n",
    "\n",
    "#batch\n",
    "with tf.Session() as sess:\n",
    "    sess.run(init)\n",
    "    for epoch in range(21):\n",
    "        for batch in range(batch_num):\n",
    "            sess.run(train_step,feed_dict={x:x_train[batch],y:y_train[batch],keep_prob:0.7})    \n",
    "        test_accuracy = sess.run(acc, feed_dict={x:x_test,y:y_test})\n",
    "        train_accuracy = sess.run(acc, feed_dict={x:x_train[0],y:y_train[0],keep_prob:1.0})\n",
    "        print(\"test:\"+str(test_accuracy)+\"  train:\" +str(train_accuracy))"
   ]
  },
  {
   "cell_type": "code",
   "execution_count": null,
   "metadata": {},
   "outputs": [],
   "source": []
  }
 ],
 "metadata": {
  "kernelspec": {
   "display_name": "Python 3",
   "language": "python",
   "name": "python3"
  },
  "language_info": {
   "codemirror_mode": {
    "name": "ipython",
    "version": 3
   },
   "file_extension": ".py",
   "mimetype": "text/x-python",
   "name": "python",
   "nbconvert_exporter": "python",
   "pygments_lexer": "ipython3",
   "version": "3.7.0"
  }
 },
 "nbformat": 4,
 "nbformat_minor": 2
}
