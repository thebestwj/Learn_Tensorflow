{
 "cells": [
  {
   "cell_type": "code",
   "execution_count": 1,
   "metadata": {},
   "outputs": [],
   "source": [
    "import tensorflow as tf\n",
    "import numpy as np"
   ]
  },
  {
   "cell_type": "code",
   "execution_count": 24,
   "metadata": {},
   "outputs": [],
   "source": [
    "#batch size\n",
    "mnist = tf.keras.datasets.mnist.load_data()\n",
    "(x_trainx, y_train), (x_testx, y_test) = mnist\n",
    "\n",
    "x_train = np.reshape(x_trainx,(60000,784))\n",
    "x_test = np.reshape(x_testx,(10000,784))\n",
    "\n",
    "x_train = x_train / 255\n",
    "x_test = x_test / 255\n",
    "\n",
    "y_train = np.eye(10)[y_train]\n",
    "y_test = np.eye(10)[y_test]\n"
   ]
  },
  {
   "cell_type": "code",
   "execution_count": 5,
   "metadata": {},
   "outputs": [
    {
     "name": "stdout",
     "output_type": "stream",
     "text": [
      "0.6804\n",
      "0.3204\n",
      "0.458\n",
      "0.4256\n",
      "0.4189\n",
      "0.4249\n",
      "0.5222\n",
      "0.4674\n",
      "0.4117\n",
      "0.6659\n",
      "0.6616\n",
      "0.6992\n",
      "0.8215\n",
      "0.8401\n",
      "0.8465\n",
      "0.8452\n",
      "0.8467\n",
      "0.8436\n",
      "0.8426\n",
      "0.8332\n",
      "0.8269\n"
     ]
    }
   ],
   "source": [
    "#build network\n",
    "x = tf.placeholder(tf.float32,[None,784])\n",
    "y = tf.placeholder(tf.float32,[None,10])\n",
    "\n",
    "W = tf.Variable(tf.zeros([784,10]))\n",
    "b = tf.Variable(tf.zeros([10]))\n",
    "\n",
    "predict = tf.matmul(x,W) + b\n",
    "\n",
    "#loss\n",
    "# loss = tf.reduce_mean(tf.square(y - pridict))\n",
    "loss = tf.nn.softmax_cross_entropy_with_logits_v2(labels=y,logits=predict)\n",
    "\n",
    "#gradient\n",
    "train_step = tf.train.GradientDescentOptimizer(0.1).minimize(loss)\n",
    "\n",
    "init = tf.global_variables_initializer()\n",
    "\n",
    "#accuracy\n",
    "correct = tf.equal(tf.argmax(y,1),tf.argmax(predict,1))\n",
    "acc = tf.reduce_mean(tf.cast(correct,tf.float32))\n",
    "\n",
    "with tf.Session() as sess:\n",
    "    sess.run(init)\n",
    "    for epoch in range(21):\n",
    "        sess.run(train_step,feed_dict={x:x_train,y:y_train})    \n",
    "        accuracy = sess.run(acc, feed_dict={x:x_test,y:y_test})\n",
    "        print(accuracy)\n",
    "    "
   ]
  },
  {
   "cell_type": "code",
   "execution_count": 27,
   "metadata": {},
   "outputs": [
    {
     "data": {
      "text/plain": [
       "(1000, 784)"
      ]
     },
     "execution_count": 27,
     "metadata": {},
     "output_type": "execute_result"
    }
   ],
   "source": [
    "mnist = tf.keras.datasets.mnist.load_data()\n",
    "(x_trainx, y_train), (x_testx, y_test) = mnist\n",
    "\n",
    "x_train = np.reshape(x_trainx,(60000,784))\n",
    "x_test = np.reshape(x_testx,(10000,784))\n",
    "\n",
    "# x_train =x_trainx.flatten().reshape(60000,784)\n",
    "# x_test =x_testx.flatten().reshape(10000,784)\n",
    "\n",
    "x_train = x_train / 255\n",
    "x_test = x_test / 255\n",
    "\n",
    "y_train = np.eye(10)[y_train]\n",
    "y_test = np.eye(10)[y_test]\n",
    "\n",
    "\n",
    "#batch\n",
    "batch_size = 1000\n",
    "batch_num = 60000 // batch_size\n",
    "x_train = np.split(np.array(x_train),batch_num)\n",
    "y_train = np.split(np.array(y_train),batch_num)\n",
    "\n",
    "x_train[0].shape"
   ]
  },
  {
   "cell_type": "code",
   "execution_count": 28,
   "metadata": {},
   "outputs": [
    {
     "name": "stdout",
     "output_type": "stream",
     "text": [
      "0.899\n",
      "0.9023\n",
      "0.9115\n",
      "0.9146\n",
      "0.915\n",
      "0.914\n",
      "0.9144\n",
      "0.8434\n",
      "0.9162\n",
      "0.9142\n",
      "0.8754\n",
      "0.9149\n",
      "0.9164\n",
      "0.9154\n",
      "0.9038\n",
      "0.9178\n",
      "0.9178\n",
      "0.9076\n",
      "0.815\n",
      "0.915\n",
      "0.9106\n"
     ]
    }
   ],
   "source": [
    "#build network\n",
    "x = tf.placeholder(tf.float32,[None,784])\n",
    "y = tf.placeholder(tf.float32,[None,10])\n",
    "\n",
    "W = tf.Variable(tf.zeros([784,10]))\n",
    "b = tf.Variable(tf.zeros([10]))\n",
    "\n",
    "pridict = tf.matmul(x,W) + b\n",
    "\n",
    "#loss\n",
    "# loss = tf.reduce_mean(tf.square(y - pridict))\n",
    "loss = tf.nn.softmax_cross_entropy_with_logits_v2(labels=y,logits=pridict)\n",
    "\n",
    "#gradient\n",
    "train_step = tf.train.GradientDescentOptimizer(0.2).minimize(loss)\n",
    "#train_step = tf.train.ProximalGradientDescentOptimizer(0.1).minimize(loss)\n",
    "\n",
    "init = tf.global_variables_initializer()\n",
    "\n",
    "#accuracy\n",
    "correct = tf.equal(tf.argmax(y,1),tf.argmax(pridict,1))\n",
    "acc = tf.reduce_mean(tf.cast(correct,tf.float32))\n",
    "\n",
    "\n",
    "#batch\n",
    "with tf.Session() as sess:\n",
    "    sess.run(init)\n",
    "    for epoch in range(21):\n",
    "        for batch in range(batch_num):\n",
    "            sess.run(train_step,feed_dict={x:x_train[batch],y:y_train[batch]})    \n",
    "        accuracy = sess.run(acc, feed_dict={x:x_test,y:y_test})\n",
    "        print(accuracy)"
   ]
  },
  {
   "cell_type": "code",
   "execution_count": null,
   "metadata": {},
   "outputs": [],
   "source": []
  }
 ],
 "metadata": {
  "kernelspec": {
   "display_name": "Python 3",
   "language": "python",
   "name": "python3"
  },
  "language_info": {
   "codemirror_mode": {
    "name": "ipython",
    "version": 3
   },
   "file_extension": ".py",
   "mimetype": "text/x-python",
   "name": "python",
   "nbconvert_exporter": "python",
   "pygments_lexer": "ipython3",
   "version": "3.7.0"
  }
 },
 "nbformat": 4,
 "nbformat_minor": 2
}
