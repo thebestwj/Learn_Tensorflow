{
 "cells": [
  {
   "cell_type": "code",
   "execution_count": 1,
   "metadata": {},
   "outputs": [],
   "source": [
    "import tensorflow as tf"
   ]
  },
  {
   "cell_type": "code",
   "execution_count": 2,
   "metadata": {},
   "outputs": [
    {
     "data": {
      "text/plain": [
       "<tf.Tensor 'MatMul:0' shape=(1, 1) dtype=int32>"
      ]
     },
     "execution_count": 2,
     "metadata": {},
     "output_type": "execute_result"
    }
   ],
   "source": [
    "#use constant\n",
    "m1=tf.constant([[3,3]])\n",
    "m2=tf.constant([[2],[3]])\n",
    "product = tf.matmul(m1,m2)\n",
    "product"
   ]
  },
  {
   "cell_type": "code",
   "execution_count": 5,
   "metadata": {},
   "outputs": [
    {
     "name": "stdout",
     "output_type": "stream",
     "text": [
      "[[15]]\n"
     ]
    }
   ],
   "source": [
    "#define session\n",
    "sess=tf.Session()\n",
    "result = sess.run(product)\n",
    "print(result)\n",
    "sess.close()"
   ]
  },
  {
   "cell_type": "code",
   "execution_count": 6,
   "metadata": {},
   "outputs": [
    {
     "name": "stdout",
     "output_type": "stream",
     "text": [
      "[[15]]\n"
     ]
    }
   ],
   "source": [
    "#with block\n",
    "with tf.Session() as sess:\n",
    "    result = sess.run(product)\n",
    "    print(result)"
   ]
  },
  {
   "cell_type": "code",
   "execution_count": 7,
   "metadata": {},
   "outputs": [
    {
     "name": "stdout",
     "output_type": "stream",
     "text": [
      "WARNING:tensorflow:From D:\\Anaconda3\\lib\\site-packages\\tensorflow\\python\\framework\\op_def_library.py:263: colocate_with (from tensorflow.python.framework.ops) is deprecated and will be removed in a future version.\n",
      "Instructions for updating:\n",
      "Colocations handled automatically by placer.\n",
      "[-1  1]\n",
      "[-2 -1]\n"
     ]
    }
   ],
   "source": [
    "#use variable\n",
    "x = tf.Variable([1,2])\n",
    "a = tf.constant([3,3])\n",
    "\n",
    "sub = tf.subtract(x,a)\n",
    "add = tf.add(x,sub)\n",
    "\n",
    "#initialize\n",
    "init = tf.global_variables_initializer()\n",
    "\n",
    "with tf.Session() as sess:\n",
    "    sess.run(init)\n",
    "    print(sess.run(add))\n",
    "    print(sess.run(sub))"
   ]
  },
  {
   "cell_type": "code",
   "execution_count": 8,
   "metadata": {},
   "outputs": [
    {
     "name": "stdout",
     "output_type": "stream",
     "text": [
      "0\n",
      "1\n",
      "2\n",
      "3\n",
      "4\n",
      "5\n"
     ]
    }
   ],
   "source": [
    "#variable assign\n",
    "state = tf.Variable(0, name='counter')\n",
    "new_value = tf.add(state,1)\n",
    "update = tf.assign(state ,new_value)\n",
    "init = tf.global_variables_initializer()\n",
    "with tf.Session() as sess:\n",
    "    sess.run(init)\n",
    "    print(sess.run(state))\n",
    "    for _ in range(5):\n",
    "        sess.run(tf.assign_add(state,1))\n",
    "        print(sess.run(state))"
   ]
  },
  {
   "cell_type": "code",
   "execution_count": 9,
   "metadata": {},
   "outputs": [
    {
     "data": {
      "text/plain": [
       "[10.0, 7.0]"
      ]
     },
     "execution_count": 9,
     "metadata": {},
     "output_type": "execute_result"
    }
   ],
   "source": [
    "#Fetch\n",
    "i1 = tf.constant(2.0)\n",
    "i2 = tf.constant(5.0)\n",
    "\n",
    "add = tf.add(i1,i2)\n",
    "mul = tf.multiply(i2,i1)\n",
    "with tf.Session() as sess:\n",
    "    result = sess.run([mul,add])\n",
    "result"
   ]
  },
  {
   "cell_type": "code",
   "execution_count": 12,
   "metadata": {},
   "outputs": [
    {
     "name": "stdout",
     "output_type": "stream",
     "text": [
      "[14.]\n"
     ]
    }
   ],
   "source": [
    "#Feed\n",
    "i1 = tf.placeholder(tf.float32)\n",
    "i2 = tf.placeholder(tf.float32)\n",
    "mul = tf.multiply(i2,i1)\n",
    "with tf.Session() as sess:\n",
    "    result = sess.run(mul,feed_dict={i1:[7.],i2:[2.]})\n",
    "print(result)"
   ]
  },
  {
   "cell_type": "code",
   "execution_count": 13,
   "metadata": {},
   "outputs": [],
   "source": [
    "import numpy as np\n"
   ]
  },
  {
   "cell_type": "code",
   "execution_count": 15,
   "metadata": {},
   "outputs": [
    {
     "data": {
      "text/plain": [
       "array([0.94170762, 0.57180473, 0.72483817, 0.28301518, 0.30179566,\n",
       "       0.27957867, 0.15093251, 0.28977378, 0.03555286, 0.3128339 ,\n",
       "       0.0615493 , 0.88768607, 0.9111399 , 0.8221675 , 0.41018183,\n",
       "       0.62332353, 0.13818354, 0.48809391, 0.73806156, 0.08594788,\n",
       "       0.10794978, 0.12628021, 0.93468646, 0.48101846, 0.7948609 ,\n",
       "       0.18340691, 0.2028002 , 0.59555971, 0.75449317, 0.46014832,\n",
       "       0.49135667, 0.8562074 , 0.42031366, 0.22175602, 0.60733101,\n",
       "       0.33678338, 0.69186243, 0.80104902, 0.57815299, 0.73201115,\n",
       "       0.93010256, 0.29821643, 0.17029563, 0.34285173, 0.09704653,\n",
       "       0.86302817, 0.6053189 , 0.32688363, 0.89147792, 0.38427604,\n",
       "       0.78119781, 0.5432947 , 0.17539341, 0.92027259, 0.89638441,\n",
       "       0.04196449, 0.2584437 , 0.34600966, 0.84013205, 0.55618462,\n",
       "       0.3271346 , 0.6780132 , 0.45504738, 0.86766838, 0.21048386,\n",
       "       0.55899924, 0.76035806, 0.13460545, 0.45206164, 0.64889201,\n",
       "       0.38343919, 0.33338726, 0.84194349, 0.02888397, 0.76782823,\n",
       "       0.83562685, 0.74281621, 0.78367015, 0.1958642 , 0.2069972 ,\n",
       "       0.31458937, 0.73381374, 0.9664409 , 0.77221784, 0.20568441,\n",
       "       0.10234331, 0.36851015, 0.36712073, 0.5568219 , 0.7125522 ,\n",
       "       0.02077474, 0.19540829, 0.69868159, 0.50576896, 0.61551793,\n",
       "       0.40786327, 0.58097211, 0.25257724, 0.72553856, 0.12737355])"
      ]
     },
     "execution_count": 15,
     "metadata": {},
     "output_type": "execute_result"
    }
   ],
   "source": [
    "x_data = np.random.rand(100)\n",
    "y_data = x_data*0.1+0.2\n",
    "x_data"
   ]
  },
  {
   "cell_type": "code",
   "execution_count": 26,
   "metadata": {},
   "outputs": [
    {
     "name": "stdout",
     "output_type": "stream",
     "text": [
      "0 [0.05202166, 0.0996597]\n",
      "20 [0.10217081, 0.19886431]\n",
      "40 [0.10133054, 0.19930397]\n",
      "60 [0.100815505, 0.1995734]\n",
      "80 [0.10049983, 0.19973853]\n",
      "100 [0.100306354, 0.19983974]\n",
      "120 [0.100187756, 0.19990177]\n",
      "140 [0.10011508, 0.1999398]\n",
      "160 [0.100070536, 0.1999631]\n",
      "180 [0.10004322, 0.19997738]\n",
      "200 [0.10002649, 0.19998614]\n",
      "220 [0.10001624, 0.19999151]\n",
      "240 [0.100009955, 0.1999948]\n",
      "260 [0.1000061, 0.1999968]\n",
      "280 [0.100003764, 0.19999802]\n",
      "300 [0.10000232, 0.19999878]\n",
      "320 [0.100001425, 0.19999926]\n",
      "340 [0.10000089, 0.19999954]\n",
      "360 [0.10000054, 0.19999972]\n",
      "380 [0.100000344, 0.19999981]\n",
      "400 [0.10000021, 0.19999988]\n",
      "420 [0.1000002, 0.19999988]\n",
      "440 [0.1000002, 0.19999988]\n",
      "460 [0.1000002, 0.19999988]\n",
      "480 [0.1000002, 0.19999988]\n",
      "500 [0.1000002, 0.19999988]\n"
     ]
    }
   ],
   "source": [
    "#linear modol\n",
    "b = tf.Variable(0.)\n",
    "k = tf.Variable(0.)\n",
    "y = k * x_data + b\n",
    "\n",
    "#costfunction\n",
    "loss = tf.reduce_mean(tf.square(y_data - y))\n",
    "#gradient_decent\n",
    "optimizer = tf.train.GradientDescentOptimizer(0.2)\n",
    "#train\n",
    "train = optimizer.minimize(loss)\n",
    "\n",
    "init = tf.global_variables_initializer()\n",
    "\n",
    "writer=tf.summary.FileWriter(\"logs/\",tf.get_default_graph())\n",
    "\n",
    "\n",
    "with tf.Session() as sess:\n",
    "    sess.run(init)\n",
    "    for step in range(501):\n",
    "        sess.run(train)\n",
    "        if step%20 == 0:\n",
    "            print(step,sess.run([k,b]))"
   ]
  },
  {
   "cell_type": "code",
   "execution_count": 22,
   "metadata": {},
   "outputs": [],
   "source": [
    "import os"
   ]
  },
  {
   "cell_type": "code",
   "execution_count": 23,
   "metadata": {},
   "outputs": [
    {
     "data": {
      "text/plain": [
       "'C:\\\\Users\\\\admin\\\\Desktop\\\\jupyter'"
      ]
     },
     "execution_count": 23,
     "metadata": {},
     "output_type": "execute_result"
    }
   ],
   "source": [
    "os.getcwd()"
   ]
  },
  {
   "cell_type": "code",
   "execution_count": null,
   "metadata": {},
   "outputs": [],
   "source": []
  }
 ],
 "metadata": {
  "kernelspec": {
   "display_name": "Python 3",
   "language": "python",
   "name": "python3"
  },
  "language_info": {
   "codemirror_mode": {
    "name": "ipython",
    "version": 3
   },
   "file_extension": ".py",
   "mimetype": "text/x-python",
   "name": "python",
   "nbconvert_exporter": "python",
   "pygments_lexer": "ipython3",
   "version": "3.7.0"
  }
 },
 "nbformat": 4,
 "nbformat_minor": 2
}
