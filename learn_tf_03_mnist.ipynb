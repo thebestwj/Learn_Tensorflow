{
 "cells": [
  {
   "cell_type": "code",
   "execution_count": 1,
   "metadata": {},
   "outputs": [],
   "source": [
    "import tensorflow as tf\n",
    "import numpy as np"
   ]
  },
  {
   "cell_type": "code",
   "execution_count": 27,
   "metadata": {},
   "outputs": [],
   "source": [
    "#batch size\n",
    "mnist = tf.keras.datasets.mnist.load_data()\n",
    "(x_trainx, y_train), (x_testx, y_test) = mnist\n",
    "\n",
    "x_train = np.reshape(x_trainx,(60000,784))\n",
    "x_test = np.reshape(x_testx,(10000,784))\n",
    "\n",
    "x_train = x_train / 255\n",
    "x_test = x_test / 255\n",
    "\n",
    "y_train = np.eye(10)[y_train]\n",
    "y_test = np.eye(10)[y_test]\n"
   ]
  },
  {
   "cell_type": "code",
   "execution_count": 28,
   "metadata": {},
   "outputs": [
    {
     "name": "stdout",
     "output_type": "stream",
     "text": [
      "0.6808\n",
      "0.6816\n",
      "0.6816\n",
      "0.6814\n",
      "0.6811\n",
      "0.6806\n",
      "0.6808\n",
      "0.681\n",
      "0.6819\n",
      "0.6818\n",
      "0.6816\n",
      "0.6825\n",
      "0.6822\n",
      "0.6824\n",
      "0.6827\n",
      "0.6819\n",
      "0.6807\n",
      "0.6812\n",
      "0.6811\n",
      "0.6803\n",
      "0.6792\n"
     ]
    }
   ],
   "source": [
    "#build network\n",
    "x = tf.placeholder(tf.float32,[None,784])\n",
    "y = tf.placeholder(tf.float32,[None,10])\n",
    "\n",
    "W = tf.Variable(tf.zeros([784,10]))\n",
    "b = tf.Variable(tf.zeros([10]))\n",
    "\n",
    "predict = tf.nn.softmax(tf.matmul(x,W) + b)\n",
    "\n",
    "#loss\n",
    "loss = tf.reduce_mean(tf.square(y - predict))\n",
    "#gradient\n",
    "train_step = tf.train.GradientDescentOptimizer(0.2).minimize(loss)\n",
    "\n",
    "init = tf.global_variables_initializer()\n",
    "\n",
    "#accuracy\n",
    "correct = tf.equal(tf.argmax(y,1),tf.argmax(predict,1))\n",
    "acc = tf.reduce_mean(tf.cast(correct,tf.float32))\n",
    "\n",
    "with tf.Session() as sess:\n",
    "    sess.run(init)\n",
    "    for epoch in range(21):\n",
    "        sess.run(train_step,feed_dict={x:x_train,y:y_train})    \n",
    "        accuracy = sess.run(acc, feed_dict={x:x_test,y:y_test})\n",
    "        print(accuracy)\n",
    "    "
   ]
  },
  {
   "cell_type": "code",
   "execution_count": 35,
   "metadata": {},
   "outputs": [
    {
     "data": {
      "text/plain": [
       "(100, 784)"
      ]
     },
     "execution_count": 35,
     "metadata": {},
     "output_type": "execute_result"
    }
   ],
   "source": [
    "mnist = tf.keras.datasets.mnist.load_data()\n",
    "(x_trainx, y_train), (x_testx, y_test) = mnist\n",
    "\n",
    "x_train = np.reshape(x_trainx,(60000,784))\n",
    "x_test = np.reshape(x_testx,(10000,784))\n",
    "\n",
    "x_train = x_train / 255\n",
    "x_test = x_test / 255\n",
    "\n",
    "y_train = np.eye(10)[y_train]\n",
    "y_test = np.eye(10)[y_test]\n",
    "\n",
    "#batch\n",
    "batch_size = 100\n",
    "batch_num = 60000 // batch_size\n",
    "x_train = np.split(np.array(x_train),batch_num)\n",
    "y_train = np.split(np.array(y_train),batch_num)\n",
    "\n",
    "x_train[0].shape"
   ]
  },
  {
   "cell_type": "code",
   "execution_count": 37,
   "metadata": {},
   "outputs": [
    {
     "name": "stdout",
     "output_type": "stream",
     "text": [
      "0.878\n",
      "0.8939\n",
      "0.9017\n",
      "0.9058\n",
      "0.908\n",
      "0.9105\n",
      "0.9123\n",
      "0.9137\n",
      "0.9156\n",
      "0.9168\n",
      "0.9168\n",
      "0.9176\n",
      "0.9182\n",
      "0.9191\n",
      "0.9193\n",
      "0.9197\n",
      "0.9202\n",
      "0.9208\n",
      "0.9218\n",
      "0.9224\n",
      "0.9228\n",
      "0.9231\n",
      "0.9231\n",
      "0.9229\n",
      "0.923\n",
      "0.9235\n",
      "0.9236\n",
      "0.9235\n",
      "0.9236\n",
      "0.9245\n",
      "0.9244\n",
      "0.9254\n",
      "0.9257\n",
      "0.9257\n",
      "0.9261\n",
      "0.9264\n",
      "0.9266\n",
      "0.9269\n",
      "0.9271\n",
      "0.9273\n",
      "0.9274\n",
      "0.9273\n",
      "0.9273\n",
      "0.9271\n",
      "0.9272\n",
      "0.9274\n",
      "0.9277\n",
      "0.928\n",
      "0.9281\n",
      "0.9279\n",
      "0.9281\n"
     ]
    }
   ],
   "source": [
    "#build network\n",
    "x = tf.placeholder(tf.float32,[None,784])\n",
    "y = tf.placeholder(tf.float32,[None,10])\n",
    "\n",
    "W = tf.Variable(tf.zeros([784,10]))\n",
    "b = tf.Variable(tf.zeros([10]))\n",
    "\n",
    "predict = tf.nn.softmax(tf.matmul(x,W) + b)\n",
    "\n",
    "#loss\n",
    "loss = tf.reduce_mean(tf.square(y - predict))\n",
    "\n",
    "#gradient\n",
    "train_step = tf.train.GradientDescentOptimizer(0.7).minimize(loss)\n",
    "train_step = tf.train.ProximalGradientDescentOptimizer(0.5).minimize(loss)\n",
    "\n",
    "init = tf.global_variables_initializer()\n",
    "\n",
    "#accuracy\n",
    "correct = tf.equal(tf.argmax(y,1),tf.argmax(predict,1))\n",
    "acc = tf.reduce_mean(tf.cast(correct,tf.float32))\n",
    "\n",
    "\n",
    "#batch\n",
    "with tf.Session() as sess:\n",
    "    sess.run(init)\n",
    "    for epoch in range(51):\n",
    "        for batch in range(batch_num):\n",
    "            sess.run(train_step,feed_dict={x:x_train[batch],y:y_train[batch]})    \n",
    "        accuracy = sess.run(acc, feed_dict={x:x_test,y:y_test})\n",
    "        print(accuracy)"
   ]
  },
  {
   "cell_type": "code",
   "execution_count": null,
   "metadata": {},
   "outputs": [],
   "source": []
  }
 ],
 "metadata": {
  "kernelspec": {
   "display_name": "Python 3",
   "language": "python",
   "name": "python3"
  },
  "language_info": {
   "codemirror_mode": {
    "name": "ipython",
    "version": 3
   },
   "file_extension": ".py",
   "mimetype": "text/x-python",
   "name": "python",
   "nbconvert_exporter": "python",
   "pygments_lexer": "ipython3",
   "version": "3.7.0"
  }
 },
 "nbformat": 4,
 "nbformat_minor": 2
}
