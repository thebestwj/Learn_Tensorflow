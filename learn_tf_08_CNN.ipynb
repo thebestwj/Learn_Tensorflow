{
 "cells": [
  {
   "cell_type": "code",
   "execution_count": 1,
   "metadata": {},
   "outputs": [],
   "source": [
    "import tensorflow as tf\n",
    "import numpy as np"
   ]
  },
  {
   "cell_type": "code",
   "execution_count": 2,
   "metadata": {},
   "outputs": [],
   "source": [
    "mnist = tf.keras.datasets.mnist.load_data()\n",
    "(x_trainx, y_train), (x_testx, y_test) = mnist\n",
    "\n",
    "\n",
    "x_train = np.reshape(x_trainx,(60000,784))\n",
    "x_test = np.reshape(x_testx,(10000,784))\n",
    "\n",
    "x_train = x_train / 255\n",
    "x_test = x_test / 255\n",
    "\n",
    "y_train = np.eye(10)[y_train]\n",
    "y_test = np.eye(10)[y_test]\n",
    "\n"
   ]
  },
  {
   "cell_type": "code",
   "execution_count": 3,
   "metadata": {},
   "outputs": [
    {
     "data": {
      "text/plain": [
       "dtype('float64')"
      ]
     },
     "execution_count": 3,
     "metadata": {},
     "output_type": "execute_result"
    }
   ],
   "source": [
    "#batch\n",
    "###very important\n",
    "batch_size = 600\n",
    "batch_num = 60000 // batch_size\n",
    "x_train = np.split(np.array(x_train),batch_num)\n",
    "y_train = np.split(np.array(y_train),batch_num)\n",
    "\n",
    "max_step = 1000\n",
    "keep_ = 0.8\n",
    "log_dir = \"logs/\"\n",
    "\n",
    "y_train[0].dtype"
   ]
  },
  {
   "cell_type": "code",
   "execution_count": 4,
   "metadata": {
    "scrolled": false
   },
   "outputs": [
    {
     "name": "stdout",
     "output_type": "stream",
     "text": [
      "WARNING:tensorflow:From <ipython-input-4-29386999297d>:83: calling dropout (from tensorflow.python.ops.nn_ops) with keep_prob is deprecated and will be removed in a future version.\n",
      "Instructions for updating:\n",
      "Please use `rate` instead of `keep_prob`. Rate should be set to `rate = 1 - keep_prob`.\n"
     ]
    }
   ],
   "source": [
    "\n",
    "# 生成权重\n",
    "def weight_variable(shape):\n",
    "    return tf.Variable(tf.truncated_normal(shape,stddev=0.1),name='W')\n",
    "\n",
    "# 生成偏差\n",
    "def bias_vairable(shape):\n",
    "    return tf.Variable(tf.constant(0.1, shape=shape),name='b')\n",
    "\n",
    "# 记录变量\n",
    "def variable_summaries(var):\n",
    "    with tf.name_scope('summaries'):\n",
    "        mean = tf.reduce_mean(var)\n",
    "        tf.summary.scalar('mean', mean)\n",
    "        with tf.name_scope('stddev'):\n",
    "            stddev = tf.sqrt(tf.reduce_mean(tf.square(var-mean)))\n",
    "        tf.summary.scalar('stddev', stddev)\n",
    "        tf.summary.scalar('max', tf.reduce_max(var))\n",
    "        tf.summary.scalar('min', tf.reduce_min(var))\n",
    "        tf.summary.histogram('histogram', var)\n",
    "\n",
    "def conv2d(x,W):\n",
    "    return tf.nn.conv2d(x,W,strides=[1,1,1,1],padding='SAME',name='conv2d')\n",
    "        \n",
    "def conv_layer(input_tensor, weight_shape, layer_name, act=tf.nn.relu):\n",
    "    with tf.name_scope(layer_name):\n",
    "        with tf.name_scope('weights'):\n",
    "            weights = weight_variable(weight_shape)\n",
    "            variable_summaries(weights)\n",
    "        with tf.name_scope('biases'):\n",
    "            biases = bias_vairable([weight_shape[-1]])\n",
    "            variable_summaries(biases)\n",
    "        with tf.name_scope('conv_comput'):\n",
    "            preactivate = conv2d(input_tensor,weights) + biases\n",
    "        with tf.name_scope('activate'):\n",
    "            activations = act(preactivate)\n",
    "        return activations\n",
    "\n",
    "def linear_layer(input_tensor, input_dim, output_dim, layer_name, act=tf.nn.relu):\n",
    "    with tf.name_scope(layer_name):\n",
    "        with tf.name_scope('weights'):\n",
    "            weights = weight_variable([input_dim, output_dim])\n",
    "            variable_summaries(weights)\n",
    "        with tf.name_scope('biases'):\n",
    "            biases = bias_vairable([output_dim])\n",
    "            variable_summaries(biases)\n",
    "        with tf.name_scope('linear_comput'):\n",
    "            preactivate = tf.matmul(input_tensor,weights) + biases\n",
    "        with tf.name_scope('activate'):\n",
    "            activations = act(preactivate)\n",
    "        return activations\n",
    "        \n",
    "\n",
    "def max_pool_2x2(x):\n",
    "    return tf.nn.max_pool(x,ksize=[1,2,2,1],strides=[1,2,2,1],padding='SAME',name='Max_pool')\n",
    "\n",
    "with tf.name_scope('Input'):\n",
    "    x = tf.placeholder(tf.float32,[None,784],name='input_x')\n",
    "    with tf.name_scope('Input_reshape'):\n",
    "        x_image = tf.reshape(x,[-1,28,28,1],name='x-image')\n",
    "        tf.summary.image('input',x_image,10)\n",
    "    y = tf.placeholder(tf.float32,[None,10],name='input_y')\n",
    "    keep_prob = tf.placeholder(tf.float32,name='keep_prob')\n",
    "\n",
    "# 第一次卷积   28*28*1->28*28*32\n",
    "conv_layer1 = conv_layer(x_image,[5,5,1,32],'conv_layer1')\n",
    "# 池化之后变为 14*14*32\n",
    "with tf.name_scope('Max_pool1'):\n",
    "    h_pool1 = max_pool_2x2(conv_layer1)\n",
    "\n",
    "# 第二次卷积 14*14*32->14*14*64\n",
    "conv_layer2 = conv_layer(h_pool1,[5,5,32,64],'conv_layer2')\n",
    "# 第二次池化之后变为 7*7*64\n",
    "with tf.name_scope('Max_pool2'):\n",
    "    h_pool2 = max_pool_2x2(conv_layer2)\n",
    "\n",
    "with tf.name_scope('Flatten'):\n",
    "    flatten_ = tf.reshape(h_pool2,[-1,7*7*64])\n",
    "    \n",
    "# 第一个全连接层 7*7*64 - 1024\n",
    "fc1 = linear_layer(flatten_, 7*7*64, 1024, 'FC1')\n",
    "\n",
    "with tf.name_scope('Dropput'):\n",
    "    fc1_drop = tf.nn.dropout(fc1, keep_prob)\n",
    "    \n",
    "# 第二个全连接层 1024 - 10\n",
    "logits = linear_layer(fc1_drop, 1024, 10, 'FC2',act=tf.nn.sigmoid)\n",
    "\n",
    "with tf.name_scope('loss'):\n",
    "    loss = tf.reduce_mean(tf.nn.softmax_cross_entropy_with_logits_v2(labels=y, logits=logits))\n",
    "    tf.summary.scalar('loss',loss)\n",
    "with tf.name_scope('train'):\n",
    "    train_step = tf.train.AdamOptimizer(0.001).minimize(loss)\n",
    "\n",
    "with tf.name_scope('accuracy'):\n",
    "    prediction = tf.nn.softmax(logits)\n",
    "    correct_prediction = tf.equal(tf.argmax(prediction,1), tf.argmax(y,1))\n",
    "    accuracy = tf.reduce_mean(tf.cast(correct_prediction,tf.float32))\n",
    "    tf.summary.scalar('accuracy', accuracy)\n",
    "    \n",
    "merged = tf.summary.merge_all()\n",
    "\n",
    "def get_dict(train,index):\n",
    "    if train:\n",
    "        xs, ys = x_train[index], y_train[index]\n",
    "        k = keep_\n",
    "    else:\n",
    "        xs, ys = x_test, y_test\n",
    "        k = 1.0\n",
    "    return {x:xs, y:ys, keep_prob: k}\n",
    "                                 "
   ]
  },
  {
   "cell_type": "code",
   "execution_count": 5,
   "metadata": {},
   "outputs": [
    {
     "name": "stdout",
     "output_type": "stream",
     "text": [
      "Iter: 0, acc: 0.9648\n",
      "Iter: 1, acc: 0.9801\n",
      "Iter: 2, acc: 0.9826\n",
      "Iter: 3, acc: 0.986\n",
      "Iter: 4, acc: 0.9872\n",
      "Iter: 5, acc: 0.9884\n",
      "Iter: 6, acc: 0.9884\n",
      "Iter: 7, acc: 0.9892\n",
      "Iter: 8, acc: 0.9888\n",
      "Iter: 9, acc: 0.9887\n",
      "Iter: 10, acc: 0.9897\n",
      "Iter: 11, acc: 0.9916\n",
      "Iter: 12, acc: 0.9908\n",
      "Iter: 13, acc: 0.9924\n",
      "Iter: 14, acc: 0.99\n",
      "Iter: 15, acc: 0.9915\n",
      "Iter: 16, acc: 0.9919\n",
      "Iter: 17, acc: 0.9933\n",
      "Iter: 18, acc: 0.9929\n",
      "Iter: 19, acc: 0.9928\n",
      "Iter: 20, acc: 0.9918\n"
     ]
    }
   ],
   "source": [
    "with tf.Session() as sess:\n",
    "    #train_writer = tf.summary.FileWriter(log_dir + '/train', sess.graph)\n",
    "    #test_writer = tf.summary.FileWriter(log_dir + '/test')\n",
    "    sess.run(tf.global_variables_initializer())\n",
    "    \n",
    "    for epoch in range(21):\n",
    "        for batch in range(batch_num):\n",
    "            batch_xs, batch_ys = x_train[batch], y_train[batch]\n",
    "            sess.run(train_step, feed_dict={x:batch_xs,y:batch_ys,keep_prob:0.7})\n",
    "        acc = sess.run(accuracy, feed_dict={x:x_test, y:y_test, keep_prob:1.0})\n",
    "        print(\"Iter: \" + str(epoch) + \", acc: \" + str(acc))\n",
    "        \n",
    "#     for i in range(max_step):\n",
    "#         if i%10 == 0:\n",
    "#             summary,acc = sess.run([merged,accuracy], feed_dict={x:x_test, y:y_test, keep_prob: keep_})\n",
    "#             #test_writer.add_summary(summary, i)\n",
    "#             print(\"Step: \" + str(i) + \", acc: \" + str(acc))\n",
    "#         else:\n",
    "#             summary,_ = sess.run([merged,train_step], feed_dict=get_dict(True, i % batch_num))"
   ]
  },
  {
   "cell_type": "code",
   "execution_count": null,
   "metadata": {},
   "outputs": [],
   "source": []
  }
 ],
 "metadata": {
  "kernelspec": {
   "display_name": "Python 3",
   "language": "python",
   "name": "python3"
  },
  "language_info": {
   "codemirror_mode": {
    "name": "ipython",
    "version": 3
   },
   "file_extension": ".py",
   "mimetype": "text/x-python",
   "name": "python",
   "nbconvert_exporter": "python",
   "pygments_lexer": "ipython3",
   "version": "3.7.0"
  }
 },
 "nbformat": 4,
 "nbformat_minor": 2
}
