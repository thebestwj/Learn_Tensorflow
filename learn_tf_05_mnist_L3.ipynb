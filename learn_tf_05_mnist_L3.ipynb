{
 "cells": [
  {
   "cell_type": "code",
   "execution_count": 1,
   "metadata": {},
   "outputs": [],
   "source": [
    "import tensorflow as tf\n",
    "import numpy as np"
   ]
  },
  {
   "cell_type": "code",
   "execution_count": 36,
   "metadata": {},
   "outputs": [],
   "source": [
    "#batch size\n",
    "mnist = tf.keras.datasets.mnist.load_data()\n",
    "(x_trainx, y_train), (x_testx, y_test) = mnist\n",
    "\n",
    "\n",
    "x_train = np.reshape(x_trainx,(60000,784))\n",
    "x_test = np.reshape(x_testx,(10000,784))\n",
    "\n",
    "x_train = x_train / 255\n",
    "x_test = x_test / 255\n",
    "\n",
    "y_train = np.eye(10)[y_train]\n",
    "y_test = np.eye(10)[y_test]\n"
   ]
  },
  {
   "cell_type": "code",
   "execution_count": 38,
   "metadata": {},
   "outputs": [
    {
     "name": "stdout",
     "output_type": "stream",
     "text": [
      "0.6808\n",
      "0.6816\n",
      "0.6816\n",
      "0.6814\n",
      "0.6811\n",
      "0.6806\n",
      "0.6808\n",
      "0.681\n",
      "0.6819\n",
      "0.6818\n",
      "0.6816\n",
      "0.6825\n",
      "0.6822\n",
      "0.6824\n",
      "0.6827\n",
      "0.6819\n",
      "0.6807\n",
      "0.6812\n",
      "0.6811\n",
      "0.6803\n",
      "0.6792\n"
     ]
    }
   ],
   "source": [
    "#build network\n",
    "x = tf.placeholder(tf.float32,[None,784])\n",
    "y = tf.placeholder(tf.float32,[None,10])\n",
    "\n",
    "W = tf.Variable(tf.zeros([784,10]))\n",
    "b = tf.Variable(tf.zeros([10]))\n",
    "\n",
    "predict = tf.nn.softmax(tf.matmul(x,W) + b)\n",
    "\n",
    "#loss\n",
    "loss = tf.reduce_mean(tf.square(y - predict))\n",
    "#gradient\n",
    "train_step = tf.train.GradientDescentOptimizer(0.2).minimize(loss)\n",
    "\n",
    "init = tf.global_variables_initializer()\n",
    "\n",
    "#accuracy\n",
    "correct = tf.equal(tf.argmax(y,1),tf.argmax(predict,1))\n",
    "acc = tf.reduce_mean(tf.cast(correct,tf.float32))\n",
    "\n",
    "with tf.Session() as sess:\n",
    "    sess.run(init)\n",
    "    for epoch in range(21):\n",
    "        sess.run(train_step,feed_dict={x:x_train,y:y_train})    \n",
    "        accuracy = sess.run(acc, feed_dict={x:x_test,y:y_test})\n",
    "        print(accuracy)\n",
    "    "
   ]
  },
  {
   "cell_type": "code",
   "execution_count": 80,
   "metadata": {},
   "outputs": [],
   "source": [
    "mnist = tf.keras.datasets.mnist.load_data()\n",
    "(x_trainx, y_train), (x_testx, y_test) = mnist\n",
    "\n",
    "x_train = np.reshape(x_trainx,(60000,784))\n",
    "x_test = np.reshape(x_testx,(10000,784))\n",
    "\n",
    "#regulazation\n",
    "x_train = x_train / 255\n",
    "x_test = x_test / 255\n",
    "\n",
    "y_train = np.eye(10)[y_train]\n",
    "y_test = np.eye(10)[y_test]\n",
    "\n",
    "\n",
    "#batch\n",
    "###very important\n",
    "batch_size = 10\n",
    "batch_num = 60000 // batch_size\n",
    "x_train = np.split(np.array(x_train),batch_num)\n",
    "y_train = np.split(np.array(y_train),batch_num)\n"
   ]
  },
  {
   "cell_type": "code",
   "execution_count": 81,
   "metadata": {},
   "outputs": [
    {
     "name": "stdout",
     "output_type": "stream",
     "text": [
      "test:0.9236  train:1.0\n",
      "test:0.9489  train:1.0\n",
      "test:0.9566  train:1.0\n",
      "test:0.9626  train:1.0\n",
      "test:0.963  train:1.0\n",
      "test:0.9652  train:1.0\n",
      "test:0.9665  train:1.0\n",
      "test:0.9687  train:1.0\n",
      "test:0.9702  train:1.0\n",
      "test:0.9687  train:1.0\n",
      "test:0.9715  train:1.0\n",
      "test:0.971  train:1.0\n",
      "test:0.9716  train:1.0\n",
      "test:0.9709  train:1.0\n",
      "test:0.9713  train:1.0\n",
      "test:0.9721  train:1.0\n",
      "test:0.973  train:1.0\n",
      "test:0.9716  train:1.0\n",
      "test:0.9731  train:1.0\n",
      "test:0.9736  train:1.0\n",
      "test:0.9719  train:1.0\n"
     ]
    }
   ],
   "source": [
    "#build network\n",
    "x = tf.placeholder(tf.float32,[None,784])\n",
    "y = tf.placeholder(tf.float32,[None,10])\n",
    "\n",
    "w1 = tf.Variable(tf.truncated_normal([784,50],stddev=0.1))\n",
    "b1 = tf.Variable(tf.zeros([50])+0.1)\n",
    "L1 = tf.nn.relu(tf.matmul(x,w1)+b1)\n",
    "\n",
    "w2 = tf.Variable(tf.truncated_normal([50,50],stddev=0.1))\n",
    "b2 = tf.Variable(tf.zeros([50])+0.1)\n",
    "L2 = tf.nn.relu(tf.matmul(L1,w2)+b2)\n",
    "\n",
    "w3 = tf.Variable(tf.truncated_normal([50,10],stddev=0.1))\n",
    "b3 = tf.Variable(tf.zeros([10])+0.1)\n",
    "L3 = tf.matmul(L2,w3)+b3\n",
    "\n",
    "predict = tf.nn.softmax(L3)\n",
    "\n",
    "\n",
    "#loss\n",
    "loss = tf.reduce_mean(tf.square(y - predict))\n",
    "\n",
    "\n",
    "#gradient\n",
    "train_step = tf.train.GradientDescentOptimizer(0.4).minimize(loss)\n",
    "#train_step = tf.train.ProximalGradientDescentOptimizer(0.5).minimize(loss)\n",
    "\n",
    "init = tf.global_variables_initializer()\n",
    "\n",
    "#accuracy\n",
    "correct = tf.equal(tf.argmax(y,1),tf.argmax(predict,1))\n",
    "acc = tf.reduce_mean(tf.cast(correct,tf.float32))\n",
    "\n",
    "\n",
    "#batch\n",
    "with tf.Session() as sess:\n",
    "    sess.run(init)\n",
    "    for epoch in range(21):\n",
    "        for batch in range(batch_num):\n",
    "            sess.run(train_step,feed_dict={x:x_train[batch],y:y_train[batch]})    \n",
    "        test_accuracy = sess.run(acc, feed_dict={x:x_test,y:y_test})\n",
    "        train_accuracy = sess.run(acc, feed_dict={x:x_train[0],y:y_train[0]})\n",
    "        print(\"test:\"+str(test_accuracy)+\"  train:\" +str(train_accuracy))"
   ]
  },
  {
   "cell_type": "code",
   "execution_count": null,
   "metadata": {},
   "outputs": [],
   "source": []
  }
 ],
 "metadata": {
  "kernelspec": {
   "display_name": "Python 3",
   "language": "python",
   "name": "python3"
  },
  "language_info": {
   "codemirror_mode": {
    "name": "ipython",
    "version": 3
   },
   "file_extension": ".py",
   "mimetype": "text/x-python",
   "name": "python",
   "nbconvert_exporter": "python",
   "pygments_lexer": "ipython3",
   "version": "3.7.0"
  }
 },
 "nbformat": 4,
 "nbformat_minor": 2
}
