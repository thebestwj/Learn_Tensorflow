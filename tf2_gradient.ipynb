{
 "cells": [
  {
   "cell_type": "code",
   "execution_count": 1,
   "metadata": {},
   "outputs": [],
   "source": [
    "import numpy as np\n",
    "import tensorflow as tf"
   ]
  },
  {
   "cell_type": "code",
   "execution_count": 2,
   "metadata": {},
   "outputs": [
    {
     "data": {
      "text/plain": [
       "True"
      ]
     },
     "execution_count": 2,
     "metadata": {},
     "output_type": "execute_result"
    }
   ],
   "source": [
    "tf.test.is_gpu_available()"
   ]
  },
  {
   "cell_type": "code",
   "execution_count": 3,
   "metadata": {},
   "outputs": [],
   "source": [
    "data = []# 保存样本集的列表 \n",
    "for i in range(100): # 循环采样100个点 \n",
    "    x = np.random.uniform(-10., 10.) # 随机采样输入x \n",
    "    # 采样高斯噪声 \n",
    "    eps = np.random.normal(0., 0.01) \n",
    "    # 得到模型的输出 \n",
    "    y = 1.477 * x + 0.089 + eps \n",
    "    data.append([x, y]) # 保存样本点 \n",
    "data = np.array(data) # 转换为2D Numpy数组"
   ]
  },
  {
   "cell_type": "code",
   "execution_count": 7,
   "metadata": {},
   "outputs": [
    {
     "data": {
      "text/plain": [
       "<matplotlib.collections.PathCollection at 0x2759cb55c18>"
      ]
     },
     "execution_count": 7,
     "metadata": {},
     "output_type": "execute_result"
    },
    {
     "data": {
      "image/png": "[encoded data removed]",
      "text/plain": [
       "<Figure size 432x288 with 1 Axes>"
      ]
     },
     "metadata": {
      "needs_background": "light"
     },
     "output_type": "display_data"
    }
   ],
   "source": [
    "import matplotlib.pyplot as plt\n",
    "plt.scatter(data[:,0],data[:,-1])"
   ]
  },
  {
   "cell_type": "code",
   "execution_count": 8,
   "metadata": {},
   "outputs": [],
   "source": [
    "def mse(b, w, points): \n",
    "    # 根据当前的w,b参数计算均方差损失 \n",
    "    totalError = 0 \n",
    "    for i in range(0, len(points)): # 循环迭代所有点 \n",
    "        x = points[i, 0] # 获得i号点的输入x \n",
    "        y = points[i, 1] # 获得i号点的输出y \n",
    "        # 计算差的平方，并累加 \n",
    "        totalError += (y - (w * x + b)) ** 2 \n",
    "    # 将累加的误差求平均，得到均方差 \n",
    "    return totalError / float(len(points))"
   ]
  },
  {
   "cell_type": "code",
   "execution_count": 10,
   "metadata": {},
   "outputs": [],
   "source": [
    "def step_gradient(b_current, w_current, points, lr): \n",
    "    # 计算误差函数在所有点上的导数，并更新w,b \n",
    "    b_gradient = 0 \n",
    "    w_gradient = 0 \n",
    "    M = float(len(points)) # 总样本数 \n",
    "    for i in range(0, len(points)): \n",
    "        x = points[i, 0] \n",
    "        y = points[i, 1] \n",
    "        # 误差函数对b的导数：grad_b = 2(wx+b-y)，参考公式(2.3) \n",
    "        b_gradient += (2/M) * ((w_current * x + b_current) - y) \n",
    "        # 误差函数对w的导数：grad_w = 2(wx+b-y)*x，参考公式(2.2) \n",
    "        w_gradient += (2/M) * x * ((w_current * x + b_current) - y) \n",
    "    # 根据梯度下降算法更新 w',b',其中lr为学习率 \n",
    "    new_b = b_current - (lr * b_gradient) \n",
    "    new_w = w_current - (lr * w_gradient) \n",
    "    return [new_b, new_w] "
   ]
  },
  {
   "cell_type": "code",
   "execution_count": 11,
   "metadata": {},
   "outputs": [],
   "source": [
    "def gradient_descent(points, starting_b, starting_w, lr, num_iterations): \n",
    "    # 循环更新w,b多次 \n",
    "    b = starting_b # b的初始值 \n",
    "    w = starting_w # w的初始值 \n",
    "    # 根据梯度下降算法更新多次 \n",
    "    for step in range(num_iterations): \n",
    "        # 计算梯度并更新一次 \n",
    "        b, w = step_gradient(b, w, np.array(points), lr) \n",
    "        loss = mse(b, w, points) # 计算当前的均方差，用于监控训练进度 \n",
    "        if step%50 == 0: # 打印误差和实时的w,b值 \n",
    "            print(f\"iteration:{step}, loss:{loss}, w:{w}, b:{b}\") \n",
    "    return [b, w] # 返回最后一次的w,b "
   ]
  },
  {
   "cell_type": "code",
   "execution_count": null,
   "metadata": {},
   "outputs": [],
   "source": []
  },
  {
   "cell_type": "code",
   "execution_count": null,
   "metadata": {},
   "outputs": [],
   "source": []
  }
 ],
 "metadata": {
  "kernelspec": {
   "display_name": "Python 3",
   "language": "python",
   "name": "python3"
  },
  "language_info": {
   "codemirror_mode": {
    "name": "ipython",
    "version": 3
   },
   "file_extension": ".py",
   "mimetype": "text/x-python",
   "name": "python",
   "nbconvert_exporter": "python",
   "pygments_lexer": "ipython3",
   "version": "3.7.0"
  }
 },
 "nbformat": 4,
 "nbformat_minor": 2
}
